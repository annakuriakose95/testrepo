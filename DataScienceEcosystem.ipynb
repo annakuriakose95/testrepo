{
  "metadata": {
    "kernelspec": {
      "name": "python",
      "display_name": "Python (Pyodide)",
      "language": "python"
    },
    "language_info": {
      "codemirror_mode": {
        "name": "python",
        "version": 3
      },
      "file_extension": ".py",
      "mimetype": "text/x-python",
      "name": "python",
      "nbconvert_exporter": "python",
      "pygments_lexer": "ipython3",
      "version": "3.8"
    }
  },
  "nbformat_minor": 5,
  "nbformat": 4,
  "cells": [
    {
      "id": "aaff99e1-b9c8-4a5a-94b3-b17343e57002",
      "cell_type": "markdown",
      "source": "# Data Science Tools and Ecosystem",
      "metadata": {}
    },
    {
      "id": "6000ab12-ffa5-41bc-ad6b-3f13ae2f1448",
      "cell_type": "markdown",
      "source": "### In this notebook, Data Science Tools and Ecosystem are summarized.",
      "metadata": {}
    },
    {
      "id": "67e8ad0f-e2ab-4aad-9308-304887e69128",
      "cell_type": "markdown",
      "source": "**Objectives:**\n\n* List popular languages for Data Science\n* List popular libraries used by Data Scientists\n* Listing some Data Science tool\n* Evaluating arithmetic expressions in Python ",
      "metadata": {}
    },
    {
      "id": "949cb13b-b61f-4f4f-a557-5d8b2451090e",
      "cell_type": "markdown",
      "source": "Some of the popular languages that Data Scientists use are:\n1. Python\n2. R\n3. SQL",
      "metadata": {}
    },
    {
      "id": "05ccbea2-e688-4497-8f2b-aac7687e4758",
      "cell_type": "markdown",
      "source": "Some of the commonly used libraries used by Data Scientists include:\n1. Pandas\n2. Seaborn\n3. scikit-learn\n4. ggplot\n5. TensorFlow\n6. PyTorch",
      "metadata": {}
    },
    {
      "id": "f2fd14da-25dd-44c5-8c70-ccd8d378d38b",
      "cell_type": "markdown",
      "source": "|Data Science Tools|\n|---------------------|\n|Jupyter Notebook / JupyterLab|\n|R Studio|\n|Visual Studio Code|",
      "metadata": {}
    },
    {
      "id": "ceaa328a-fffc-4aba-b117-747d3bdaccf9",
      "cell_type": "markdown",
      "source": "### Below are a few examples of evaluating arithmetic expressions in Python",
      "metadata": {}
    },
    {
      "id": "3e4d1a86-4ec5-4d43-976d-da729fb97303",
      "cell_type": "code",
      "source": "# This a simple arithmetic expression to mutiply then add integers\"\nprint((3*4)+5)",
      "metadata": {
        "trusted": true
      },
      "outputs": [
        {
          "name": "stdout",
          "output_type": "stream",
          "text": "17\n"
        }
      ],
      "execution_count": 5
    },
    {
      "id": "fca03947-6abe-47c9-866f-79c46d2b8b13",
      "cell_type": "code",
      "source": "# This will convert 200 minutes to hours by diving by 60\ngivenMinutes = 200\ngetHours = 200/60\nprint(getHours)",
      "metadata": {
        "trusted": true
      },
      "outputs": [
        {
          "name": "stdout",
          "output_type": "stream",
          "text": "3.3333333333333335\n"
        }
      ],
      "execution_count": 13
    },
    {
      "id": "c8dd4e2e-0c99-4247-8440-411407003497",
      "cell_type": "markdown",
      "source": "## Author\nAnna Kuriakose",
      "metadata": {}
    },
    {
      "id": "25f3b9bf-6ddd-475e-b582-05b450c94e31",
      "cell_type": "code",
      "source": "",
      "metadata": {
        "trusted": true
      },
      "outputs": [],
      "execution_count": null
    }
  ]
}